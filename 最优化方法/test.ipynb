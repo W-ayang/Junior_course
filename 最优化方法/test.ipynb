{
 "cells": [
  {
   "cell_type": "code",
   "execution_count": 26,
   "metadata": {},
   "outputs": [
    {
     "name": "stdout",
     "output_type": "stream",
     "text": [
      "  0.042178 seconds (2 allocations: 78.172 KiB)\n"
     ]
    },
    {
     "data": {
      "text/plain": [
       "10000×1 Matrix{Float64}:\n",
       "  -81.92803215488787\n",
       "  -64.45742296396733\n",
       "  160.69390183568595\n",
       "  124.99545472140683\n",
       "  -15.394819814104435\n",
       "  224.44736917664332\n",
       "  -24.43622897267435\n",
       "    4.47853287336555\n",
       "  -77.03249168099039\n",
       "   -3.3720665308464453\n",
       "    ⋮\n",
       "  171.31736470466208\n",
       "  100.22117957564521\n",
       "  159.2170100568852\n",
       "  112.10760156869937\n",
       " -162.63111920946238\n",
       " -170.72098173415625\n",
       "   66.37600079138312\n",
       " -168.84334961978226\n",
       "   68.63071869238601"
      ]
     },
     "metadata": {},
     "output_type": "display_data"
    }
   ],
   "source": [
    "n =10000\n",
    "A = randn(n,n)\n",
    "b = randn(n,1)\n",
    "# @time A * A;\n",
    "@time A * b\n"
   ]
  },
  {
   "cell_type": "code",
   "execution_count": 27,
   "metadata": {},
   "outputs": [
    {
     "ename": "MethodError",
     "evalue": "MethodError: no method matching /(::Float64, ::Tuple{})\n\nClosest candidates are:\n  /(::T, !Matched::T) where T<:Union{Float16, Float32, Float64}\n   @ Base float.jl:411\n  /(::Union{Float16, Float32, Float64}, !Matched::BigFloat)\n   @ Base mpfr.jl:474\n  /(::Number, !Matched::BitArray)\n   @ Base bitarray.jl:1205\n  ...\n",
     "output_type": "error",
     "traceback": [
      "MethodError: no method matching /(::Float64, ::Tuple{})\n",
      "\n",
      "Closest candidates are:\n",
      "  /(::T, !Matched::T) where T<:Union{Float16, Float32, Float64}\n",
      "   @ Base float.jl:411\n",
      "  /(::Union{Float16, Float32, Float64}, !Matched::BigFloat)\n",
      "   @ Base mpfr.jl:474\n",
      "  /(::Number, !Matched::BitArray)\n",
      "   @ Base bitarray.jl:1205\n",
      "  ...\n",
      "\n",
      "\n",
      "Stacktrace:\n",
      " [1] top-level scope\n",
      "   @ d:\\code\\大三课程\\最优化方法\\test.ipynb:3"
     ]
    }
   ],
   "source": [
    "n = 10000\n",
    "H = randn(n,n);s = randn(n); y = randn(n)\n",
    "ρ = 1.0/()"
   ]
  },
  {
   "cell_type": "markdown",
   "metadata": {},
   "source": [
    "$$ \\min \\phi \\overset{\\text{def}} = \\frac{1}{2} x^TAx - b^Tx"
   ]
  },
  {
   "cell_type": "code",
   "execution_count": 28,
   "metadata": {},
   "outputs": [
    {
     "data": {
      "text/plain": [
       "-3.141592653589793:0.06283185307179587:3.141592653589793"
      ]
     },
     "metadata": {},
     "output_type": "display_data"
    }
   ],
   "source": [
    "n = 100\n",
    "x = range(-π,π,n + 1)\n"
   ]
  },
  {
   "cell_type": "code",
   "execution_count": 29,
   "metadata": {},
   "outputs": [
    {
     "data": {
      "text/plain": [
       "-8.881225145946523e-17"
      ]
     },
     "metadata": {},
     "output_type": "display_data"
    }
   ],
   "source": [
    "\n",
    "y1 = sin.(x)\n",
    "y2 = @. sin(2x)\n",
    "dx = (1 + 1) / n * π\n",
    "(y1' * y2) * dx"
   ]
  },
  {
   "cell_type": "code",
   "execution_count": 6,
   "metadata": {},
   "outputs": [
    {
     "data": {
      "text/plain": [
       "-1.673334410491898"
      ]
     },
     "metadata": {},
     "output_type": "display_data"
    }
   ],
   "source": [
    "u = randn(3);v = randn(3);w = randn(3)\n",
    "u' * v"
   ]
  },
  {
   "cell_type": "code",
   "execution_count": 7,
   "metadata": {},
   "outputs": [],
   "source": [
    "# u -= (u' * v) / (v' * v) * v\n",
    "# u' * v\n",
    "\n",
    "v -= (v' * u) / (u' * u) * u;\n",
    "w -= (w' * u) / (u' * u) * u;\n",
    "w -= (w' * v) / (v' * v) * v;\n"
   ]
  },
  {
   "cell_type": "code",
   "execution_count": 8,
   "metadata": {},
   "outputs": [
    {
     "data": {
      "text/plain": [
       "3-element Vector{Float64}:\n",
       " -7.600564148482538e-17\n",
       "  2.6988720076303976e-16\n",
       "  1.0778525783003632e-19"
      ]
     },
     "metadata": {},
     "output_type": "display_data"
    }
   ],
   "source": [
    "[v' * u,w' * u,w' * v]"
   ]
  },
  {
   "cell_type": "code",
   "execution_count": 10,
   "metadata": {},
   "outputs": [
    {
     "data": {
      "text/plain": [
       "0.90000000000000002220446049250313080847263336181640625"
      ]
     },
     "metadata": {},
     "output_type": "display_data"
    }
   ],
   "source": [
    "0.9\n",
    "BigFloat(0.9)"
   ]
  }
 ],
 "metadata": {
  "kernelspec": {
   "display_name": "Julia 1.9.3",
   "language": "julia",
   "name": "julia-1.9"
  },
  "language_info": {
   "file_extension": ".jl",
   "mimetype": "application/julia",
   "name": "julia",
   "version": "1.9.3"
  }
 },
 "nbformat": 4,
 "nbformat_minor": 2
}
