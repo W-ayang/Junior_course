{
 "cells": [
  {
   "cell_type": "markdown",
   "metadata": {},
   "source": [
    "# 0 课间练习\n",
    "$$ p_k^T = - \\nabla f_k^T B_k^{-1} \\nabla f_k $$"
   ]
  },
  {
   "cell_type": "markdown",
   "metadata": {},
   "source": [
    "$$ \n",
    "H_{k+1} = H_k + \\frac{\\Delta x_k \\Delta x_k^T}{\\Delta x_k^T \\Delta y_k} - \\frac{(H_k \\Delta y_k)(H_k \\Delta y_k)^T}{\\Delta y_k^T H_k \\Delta y_k}\n",
    "$$\n"
   ]
  },
  {
   "cell_type": "markdown",
   "metadata": {},
   "source": [
    "# 1\n",
    "\n",
    "$\\qquad$ Mathematically speaking, optimization is the minimization or maximization of a function subject to constraints on its variables. We use the following notation:\n",
    "$\\qquad$ \n",
    "* $x$ is a vector of variables, called *unknowns* or *parameters*  \n",
    "* $f$ is an *objective function* of $x$ that we want to minimize  \n",
    "* $c_i$ are constraint functions, which are scalar functions of $x$ that define certain equationsand inequalities that the unknown vector $x$ must satisfy.\n",
    "\n",
    "\n",
    "# 2\n",
    "$$\\min_{x \\in R^n } f(x) \\qquad \\text{subject to}\\qquad\n",
    "\\begin{aligned} \n",
    "c_i(x) = 0 & \\qquad i \\in \\varepsilon \\\\\n",
    "c_i(x) \\ge 0 & \\qquad i \\in \\mathcal{I}  \\\\\n",
    "\\end{aligned}\n",
    "\\quad\\quad\\quad(1.1)\n",
    "$$\n",
    "\n",
    "$$\n",
    "\\min \\left(x_{1}-2\\right)^{2}+\\left(x_{2}-1\\right)^{2} \\quad \\text { subject to } \\begin{array}{l}\n",
    "x_{1}^{2}-x_{2} \\leq 0, \\\\\n",
    "x_{1}+x_{2} \\leq 2 .\n",
    "\\end{array}\n",
    "(1.2)\n",
    "$$\n",
    "\n",
    "  \n",
    "# 3\n",
    "$\\quad$ The mathematical formulation is\n",
    "$$\n",
    "\\begin{aligned}\n",
    "\\quad\\quad\\quad\\quad\\quad\\quad\\quad\\quad\\quad\\quad\\quad\\min_{x}f(x), \\quad\\quad\\quad\\quad\\quad\\quad\\quad\\quad\\text{(2.1)}  \n",
    "\\end{aligned}\n",
    "$$\n",
    "\n",
    "where $x$ $\\mathbb{R}^n $ is a real vector with $n \\geq 1$ components and $f$ : $\\mathbb{R}^n$ $\\rightarrow$ $\\mathbb{R}$ is a smooth function.\n",
    "\n",
    "# 4\n",
    "$$\n",
    "\\phi(t;x)=x_1+x_2e^{-(x_3-t)^2/x_4}+x_5\\cos(x_6t).\n",
    "$$\n",
    "\n",
    "$$\n",
    "\\phi  \\\\\n",
    "\\cos\n",
    "$$\n",
    "\n",
    "\n",
    "# 5\n",
    "$$\n",
    "\\mathcal{A}、\\mathcal{B}、\\mathcal{C}、\\mathcal{D}、\\mathcal{E}、\\mathcal{F}、\n",
    "\\mathcal{G}、\\mathcal{H}、\\mathcal{I}、\\mathcal{J}、\\mathcal{K}、\\mathcal{L}\\\\\n",
    "\\mathcal{M}、\\mathcal{N}、\\mathcal{O}、\\mathcal{P}、\\mathcal{Q}、\\mathcal{R}、\n",
    "\\mathcal{S}、\\mathcal{T}、\\mathcal{U}、\\mathcal{V}、\\mathcal{W}、\\mathcal{X}\\\\\n",
    "\\mathcal{Y}、\\mathcal{Z}\n",
    "$$\n",
    "\n"
   ]
  }
 ],
 "metadata": {
  "kernelspec": {
   "display_name": "Julia 1.9.3",
   "language": "julia",
   "name": "julia-1.9"
  },
  "language_info": {
   "file_extension": ".jl",
   "mimetype": "application/julia",
   "name": "julia",
   "version": "1.9.3"
  },
  "orig_nbformat": 4
 },
 "nbformat": 4,
 "nbformat_minor": 2
}
