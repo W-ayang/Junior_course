{
 "cells": [
  {
   "cell_type": "markdown",
   "metadata": {},
   "source": [
    "# 问题一($X\\theta$)"
   ]
  },
  {
   "cell_type": "markdown",
   "metadata": {},
   "source": [
    "*求*\n",
    "$$\n",
    "\\min J(\\theta,x,y)=\\frac{||X\\theta-y||^2}{2m}                                       \n",
    "$$\n",
    "\n",
    "*其中*\n",
    "$$\n",
    "\\qquad X\\theta=[x_1\\theta,x_2\\theta,x_3\\theta,\\ldots,x_m\\theta]   \\\\\n",
    "y=[y_{1},y_{2},y_{3},\\ldots,y_{2}]                                                     \\\\\n",
    "$$\n",
    "\n",
    "*对 $J$ 进行展开计算*\n",
    "$$\n",
    "\\qquad\\qquad\\qquad\\begin{aligned}\n",
    "J&=\\frac1{2m}(X\\theta-y)^T(X\\theta-y)                                           \\\\\n",
    "&=\\frac1{2m}(\\theta^TX^T-y^T)(X\\theta-y)                                                \\\\\n",
    "&=\\frac1{2m}(\\theta^TX^TX\\theta-\\theta^TX^Ty-y^TX\\theta+ y^Ty)                     \\\\\n",
    "\\end{aligned}\\\\\n",
    "$$\n",
    "\n",
    "*则*\n",
    "$$\n",
    "\\begin{aligned}\n",
    "\\frac{\\partial J}{\\partial\\theta}\n",
    "&=\\frac1{2m}(2X^TX\\theta-2X^Ty)                                                     \\\\\n",
    "&=\\frac1m(X^TX\\theta - X^Ty)                                                              \\\\\n",
    "\\end{aligned}\\\\\n",
    "$$\n",
    "\n",
    "*令*\n",
    "$$\n",
    "\\frac{\\partial J}{\\partial\\theta}=0   \n",
    "$$\n",
    "\n",
    "*即*\n",
    "$$\n",
    "X^TX\\theta = X^Ty\n",
    "$$\n",
    "\n",
    "*得*\n",
    "$$\n",
    "\\theta=(X^{T}X)^{-1}X^Ty\n",
    "$$"
   ]
  },
  {
   "cell_type": "markdown",
   "metadata": {},
   "source": [
    "# 问题二($\\theta^TX$ ，样本是列向量)"
   ]
  },
  {
   "cell_type": "markdown",
   "metadata": {},
   "source": [
    "*求*\n",
    "$$\n",
    "\\min J(\\theta,x,y)=\\frac{||\\theta^Tx-y||^2}{2m}                                       \n",
    "$$\n",
    "\n",
    "*其中*\n",
    "$$\n",
    "\\qquad \\theta^Tx=[\\theta_1x_1,\\theta_2x_2,\\theta_3x_3,\\ldots,\\theta_mx_m]   \\\\\n",
    "y=[y_{1},y_{2},y_{3},\\ldots,y_{2}]                                                     \\\\\n",
    "$$\n",
    "\n",
    "*对 $J$ 进行展开计算*\n",
    "$$\n",
    "\\qquad\\qquad\\qquad\\begin{aligned}\n",
    "J&=\\frac1{2m}(\\theta^TX-y)^T(\\theta^TX-y)                                           \\\\\n",
    "&=\\frac1{2m}(X^T\\theta-y^T)(\\theta^TX-y)                                                \\\\\n",
    "&=\\frac1{2m}(X^T\\theta \\theta^TX-X^T\\theta y-y^T\\theta^TX+ y^Ty)                     \\\\\n",
    "\\end{aligned}\\\\\n",
    "$$\n",
    "\n",
    "*则*\n",
    "$$\n",
    "\\begin{aligned}\n",
    "\\frac{\\partial J}{\\partial\\theta}\n",
    "&=\\frac1{2m}(2XX^T\\theta-Xy^T-Xy^T)                                                     \\\\\n",
    "&=\\frac1m(XX^T\\theta - Xy^T)                                                              \\\\\n",
    "\\end{aligned}\\\\\n",
    "$$\n",
    "\n",
    "*令*\n",
    "$$\n",
    "\\frac{\\partial J}{\\partial\\theta}=0   \n",
    "$$\n",
    "\n",
    "*即*\n",
    "$$\n",
    "XX^T\\theta = Xy^T\n",
    "$$\n",
    "\n",
    "*得*\n",
    "$$\n",
    "\\theta=(XX^{T})^{-1}Xy^T\n",
    "$$"
   ]
  },
  {
   "cell_type": "markdown",
   "metadata": {},
   "source": [
    "# 问题三($X^T\\theta$ ，样本是列向量)"
   ]
  },
  {
   "cell_type": "markdown",
   "metadata": {},
   "source": [
    "*求*\n",
    "$$\n",
    "\\min J(\\theta,x,y)=\\frac{||X^T\\theta-y||^2}{2m}                                       \n",
    "$$\n",
    "\n",
    "*其中*\n",
    "$$\n",
    "\\qquad X^T\\theta=[x_1^T\\theta,x_2^T\\theta,x_3^T\\theta,\\ldots,x_m^T\\theta]   \\\\\n",
    "y=[y_{1},y_{2},y_{3},\\ldots,y_{2}]                                                     \\\\\n",
    "$$\n",
    "\n",
    "*对 $J$ 进行展开计算*\n",
    "$$\n",
    "\\qquad\\qquad\\qquad\\begin{aligned}\n",
    "J&=\\frac1{2m}(X^T\\theta-y)^T(X^T\\theta-y)                                           \\\\\n",
    "&=\\frac1{2m}(\\theta^TX-y^T)(X^T\\theta-y)                                                \\\\\n",
    "&=\\frac1{2m}(\\theta^TXX^T\\theta-\\theta^TXy-y^TX^T\\theta+ y^Ty)                     \\\\\n",
    "\\end{aligned}\\\\\n",
    "$$\n",
    "\n",
    "*则*\n",
    "$$\n",
    "\\begin{aligned}\n",
    "\\frac{\\partial J}{\\partial\\theta}\n",
    "&=\\frac1{2m}(2XX^T\\theta-2Xy)                                                     \\\\\n",
    "&=\\frac1m(XX^T\\theta - Xy)                                                              \\\\\n",
    "\\end{aligned}\\\\\n",
    "$$\n",
    "\n",
    "*令*\n",
    "$$\n",
    "\\frac{\\partial J}{\\partial\\theta}=0   \n",
    "$$\n",
    "\n",
    "*即*\n",
    "$$\n",
    "XX^T\\theta = Xy\n",
    "$$\n",
    "\n",
    "*得*\n",
    "$$\n",
    "\\theta=(XX^{T})^{-1}Xy\n",
    "$$"
   ]
  },
  {
   "cell_type": "markdown",
   "metadata": {},
   "source": [
    "# 问题四($\\theta X^T,\\theta $ 是行向量)"
   ]
  },
  {
   "cell_type": "markdown",
   "metadata": {},
   "source": [
    "*求*\n",
    "$$\n",
    "\\min J(\\theta,x,y)=\\frac{||\\theta X^T-y||^2}{2m}                                       \n",
    "$$\n",
    "\n",
    "*其中*\n",
    "$$\n",
    "\\qquad \\theta^Tx=[\\theta x_1^T,\\theta x_2^T,\\theta x_3^T,\\ldots,\\theta x_m^T]   \\\\\n",
    "y=[y_{1},y_{2},y_{3},\\ldots,y_{2}]                                                     \\\\\n",
    "$$\n",
    "\n",
    "*对 $J$ 进行展开计算*\n",
    "$$\n",
    "\\qquad\\qquad\\qquad\\begin{aligned}\n",
    "J&=\\frac1{2m}(\\theta X^T-y)^T(\\theta X^T-y)                                           \\\\\n",
    "&=\\frac1{2m}(X\\theta^T-y^T)(\\theta X^T-y)                                                \\\\\n",
    "&=\\frac1{2m}(X\\theta^T \\theta X^T-X\\theta^T y-y^T\\theta X^T+ y^Ty)                     \\\\\n",
    "\\end{aligned}\\\\\n",
    "$$\n",
    "\n",
    "*则*\n",
    "$$\n",
    "\\begin{aligned}\n",
    "\\frac{\\partial J}{\\partial\\theta}\n",
    "&=\\frac1{2m}(2\\theta X^TX-yX-yX)                                                     \\\\\n",
    "&=\\frac1m(\\theta X^TX - yX)                                                              \\\\\n",
    "\\end{aligned}\\\\\n",
    "$$\n",
    "\n",
    "*令*\n",
    "$$\n",
    "\\frac{\\partial J}{\\partial\\theta}=0   \n",
    "$$\n",
    "\n",
    "*即*\n",
    "$$\n",
    "\\theta X^TX = yX\n",
    "$$\n",
    "\n",
    "*得*\n",
    "$$\n",
    "\\theta=yX(X^{T}X)^{-1}\n",
    "$$"
   ]
  },
  {
   "cell_type": "markdown",
   "metadata": {},
   "source": [
    "# 问题五"
   ]
  },
  {
   "cell_type": "markdown",
   "metadata": {},
   "source": [
    "✐$\\;\\;\\;$ **3.1** $\\;$ Program the steepest descent and Newton algorithms using the backtracking line $\\\\$\n",
    "search, Algorithm $3.1.$ Use them to minimize the Rosenbrock function $(2.22)$. Set the initial         $\\\\$\n",
    "step length $\\alpha_0 = 1$ and print the step length used by each method at each iteration. First try   $\\\\$\n",
    "the initial point  $x_0 = (1.2, 1.2)^T$ and then the more difﬁcult starting point $x_0 = (−1.2, 1)^T .$"
   ]
  },
  {
   "cell_type": "markdown",
   "metadata": {},
   "source": [
    "**Algorithm 3.1** (Backtracking Line Search). $\\\\$\n",
    "$\\;\\;$ Choose $\\bar{\\alpha}>0,\\rho\\in(0,1),c\\in(0,1);$ Set $\\alpha\\leftarrow\\bar{\\alpha}; \\\\$\n",
    "$\\;\\;$ **repeat** until $f(x_{k}+\\alpha p_{k})\\leq f(x_{k})+c\\alpha\\nabla f_{k}^{T}p_{k}   \\\\$ \n",
    "$\\;\\;\\qquad \\;\\;$  $\\alpha\\leftarrow\\rho\\alpha; \\\\$\n",
    "$\\;\\;$ **end（repeat）**        $\\\\$\n",
    "$\\;\\;$ Terminate with $\\alpha_{k}=\\alpha.$"
   ]
  },
  {
   "cell_type": "code",
   "execution_count": 1,
   "metadata": {},
   "outputs": [
    {
     "name": "stdout",
     "output_type": "stream",
     "text": [
      "Newton's Method (x_1) 迭代次数: 39444"
     ]
    },
    {
     "name": "stdout",
     "output_type": "stream",
     "text": [
      "\n"
     ]
    },
    {
     "name": "stderr",
     "output_type": "stream",
     "text": [
      "┌ Info: Saved animation to d:\\code\\大三课程\\最优化方法\\作业.ipynb\\王文杨212101121.gif\n",
      "└ @ Plots C:\\Users\\86183\\.julia\\packages\\Plots\\sxUvK\\src\\animation.jl:156\n"
     ]
    },
    {
     "name": "stdout",
     "output_type": "stream",
     "text": [
      "Newton's Method (x_2) 迭代次数: 16730"
     ]
    },
    {
     "name": "stdout",
     "output_type": "stream",
     "text": [
      "\n"
     ]
    },
    {
     "name": "stdout",
     "output_type": "stream",
     "text": [
      "Newton's Method (x_3) 迭代次数: 9995\n"
     ]
    },
    {
     "name": "stderr",
     "output_type": "stream",
     "text": [
      "┌ Info: Saved animation to d:\\code\\大三课程\\最优化方法\\作业.ipynb\\王文杨212101121.gif\n",
      "└ @ Plots C:\\Users\\86183\\.julia\\packages\\Plots\\sxUvK\\src\\animation.jl:156\n"
     ]
    },
    {
     "name": "stderr",
     "output_type": "stream",
     "text": [
      "┌ Info: Saved animation to d:\\code\\大三课程\\最优化方法\\作业.ipynb\\王文杨212101121.gif\n",
      "└ @ Plots C:\\Users\\86183\\.julia\\packages\\Plots\\sxUvK\\src\\animation.jl:156\n"
     ]
    }
   ],
   "source": [
    "using LaTeXStrings\n",
    "using Plots\n",
    "\n",
    "f(x) = 100(x[2] - x[1]^2)^2 + (1- x[1])^2 \n",
    "g(x) = [100 * 2(x[2] - x[1]^2) * (-2x[1])+2(x[1]-1), \n",
    "100 * 2(x[2] - x[1]^2)]  \n",
    "G(x) = [100*2*(-2x[1])*(-2x[1])+(-2)*100*2(x[2]-x[1]^2)+2 100 * 2 * (-2x[1]); \n",
    "100 * 2(-2x[1])  100 * 2\n",
    "]\n",
    "α_0 = 1.0; c = 0.2; ρ = 0.5 \n",
    "\n",
    "# 牛顿法线性搜索\n",
    "function LineSearch(f, g; x_0=[2.0, 2.0], α_0 = 1.0, c=0.2, ρ=0.5) \n",
    "    x = copy(x_0) \n",
    "    steps = 0\n",
    "    xBox = [x]\n",
    "    \n",
    "    while abs(g(x)' * g(x)) > 1e-10 \n",
    "        α = α_0 \n",
    "        while(f(x+α*(-g(x))) > f(x) + c * α * (-g(x))' * g(x)) \n",
    "            α *= ρ \n",
    "        end\n",
    "        p = - G(x) \\ g(x)\n",
    "        x += α * p\n",
    "        push!(xBox, x)\n",
    "        steps += 1\n",
    "    end \n",
    "    x, steps, xBox\n",
    "end\n",
    "\n",
    "# 梯度下降法线性搜索\n",
    "function GradientDescentLineSearch(f, g; x_0=[2.0, 2.0], α_0=0.1, c=0.2, ρ=0.5, tol=1e-6, max_iterations=10000)\n",
    "    x = copy(x_0)\n",
    "    iterations = 0\n",
    "    xBox = [x]\n",
    "    \n",
    "    while norm(g(x)) > tol && iterations < max_iterations\n",
    "        α = α_0\n",
    "        while f(x - α * g(x)) > f(x) + c * α * (-g(x)' * g(x))\n",
    "            α *= ρ\n",
    "        end\n",
    "        x -= α * g(x)\n",
    "        push!(xBox, x)\n",
    "        iterations += 1\n",
    "    end\n",
    "    return x, iterations, xBox\n",
    "end\n",
    "\n",
    "\n",
    "function print(xBox, filename)\n",
    "    x = -2:0.01:2\n",
    "    y = -2:0.01:6\n",
    "\n",
    "    z = [f([x[i], y[j]]) for j in 1:length(y), i in 1:length(x)]\n",
    "\n",
    "    contour(x, y, z, levels=20, cgrad=:blues, xlabel=\"x1\", ylabel=\"x2\", title=\"Newton Method\")\n",
    "\n",
    "    m = length(xBox)\n",
    "    anim = @animate for i ∈ 1:100:m\n",
    "        scatter!([xBox[i][1]], [xBox[i][2]], legend=false)\n",
    "    end\n",
    "    gif(anim, filename, fps=30)\n",
    "end\n",
    "\n",
    "x_0 = [2.3, 1.5]\n",
    "x_1 = [1.2, 1.2]\n",
    "x_2 = [-1.2, 1.0]\n",
    "\n",
    "XX = hcat(x_0, x_1, x_2)\n",
    "nums_X = size(XX, 2)\n",
    "\n",
    "# 循环遍历三个初始点的迭代情况\n",
    "#=\n",
    "这里把三个初始点的迭代情况串行打印了出来，40s附近出现第一个初始点的迭代图，\n",
    "1分钟附近出现第二个图,1m13.6s出现第三个图，最后只保留了第三个初始点[-1.2,1.0]的迭代图\n",
    "=#\n",
    "for i in 1:nums_X\n",
    "    x = XX[:, i]\n",
    "    Newton_x,Newton_steps, Newton_xBox = LineSearch(f, g, x_0=x)\n",
    "    println(\"Newton's Method (x_$(i)) 迭代次数: \", Newton_steps)\n",
    "    print(Newton_xBox, \"王文杨212101121.gif\")\n",
    "end"
   ]
  },
  {
   "cell_type": "markdown",
   "metadata": {},
   "source": [
    "# 问题六"
   ]
  },
  {
   "cell_type": "code",
   "execution_count": 3,
   "metadata": {},
   "outputs": [
    {
     "name": "stdout",
     "output_type": "stream",
     "text": [
      " 35.350738 seconds (3 allocations: 2.980 GiB, 0.01% gc time)\n"
     ]
    }
   ],
   "source": [
    "n = 10000;m = 20000;b = randn(10000,1);\n",
    "A = randn(n,m);\n",
    "@time A' * A;"
   ]
  },
  {
   "cell_type": "code",
   "execution_count": 4,
   "metadata": {},
   "outputs": [
    {
     "name": "stdout",
     "output_type": "stream",
     "text": [
      "  0.115651 seconds (3 allocations: 156.312 KiB)\n",
      "  0.000460 seconds (2 allocations: 80 bytes)\n"
     ]
    }
   ],
   "source": [
    "@time A' * b;\n",
    "@time b' * b;"
   ]
  }
 ],
 "metadata": {
  "kernelspec": {
   "display_name": "Julia 1.9.3",
   "language": "julia",
   "name": "julia-1.9"
  },
  "language_info": {
   "file_extension": ".jl",
   "mimetype": "application/julia",
   "name": "julia",
   "version": "1.9.3"
  },
  "orig_nbformat": 4
 },
 "nbformat": 4,
 "nbformat_minor": 2
}
