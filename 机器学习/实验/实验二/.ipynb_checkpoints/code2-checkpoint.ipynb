{
 "cells": [
  {
   "cell_type": "code",
   "execution_count": 1,
   "metadata": {},
   "outputs": [
    {
     "ename": "NameError",
     "evalue": "name 'load' is not defined",
     "output_type": "error",
     "traceback": [
      "\u001b[1;31m---------------------------------------------------------------------------\u001b[0m",
      "\u001b[1;31mNameError\u001b[0m                                 Traceback (most recent call last)",
      "Cell \u001b[1;32mIn[1], line 1\u001b[0m\n\u001b[1;32m----> 1\u001b[0m data \u001b[38;5;241m=\u001b[39m\u001b[43mload\u001b[49m(\u001b[38;5;124m'\u001b[39m\u001b[38;5;124mD:\u001b[39m\u001b[38;5;124m\\\u001b[39m\u001b[38;5;124mcode\u001b[39m\u001b[38;5;124m\\\u001b[39m\u001b[38;5;124m大三课程\u001b[39m\u001b[38;5;124m\\\u001b[39m\u001b[38;5;124m机器学习\u001b[39m\u001b[38;5;124m\\\u001b[39m\u001b[38;5;124m实验\u001b[39m\u001b[38;5;124m\\\u001b[39m\u001b[38;5;124m实验一\u001b[39m\u001b[38;5;124m\\\u001b[39m\u001b[38;5;124m实验二\u001b[39m\u001b[38;5;124m\\\u001b[39m\u001b[38;5;124morl.mat\u001b[39m\u001b[38;5;124m'\u001b[39m);\n\u001b[0;32m      2\u001b[0m images \u001b[38;5;241m=\u001b[39m data\u001b[38;5;241m.\u001b[39mD;\n\u001b[0;32m      3\u001b[0m features \u001b[38;5;241m=\u001b[39m data\u001b[38;5;241m.\u001b[39mX;\n",
      "\u001b[1;31mNameError\u001b[0m: name 'load' is not defined"
     ]
    }
   ],
   "source": [
    "data =load('D:\\code\\大三课程\\机器学习\\实验\\实验一\\实验二\\orl.mat');\n",
    "images = data.D;\n",
    "features = data.X;\n",
    "labels = data.y;\n",
    "\n",
    "num_people = 40;\n",
    "images_per_person = 10;"
   ]
  },
  {
   "cell_type": "code",
   "execution_count": 2,
   "metadata": {},
   "outputs": [
    {
     "name": "stderr",
     "output_type": "stream",
     "text": [
      "UsageError: Line magic function `%` not found.\n"
     ]
    }
   ],
   "source": [
    "% 每行显示 10 张图像\n",
    "num_rows = 40;\n",
    "num_cols = size(images, 4) / num_rows;\n",
    "\n",
    "% 设置图形窗口大小\n",
    "% fig = figure;\n",
    "% set(fig, 'Position', [100, 100, 1200, 1200]); % 调整窗口的位置和大小\n",
    "% 重新组织图像数据，将10张图像堆叠在一起\n",
    "reshaped_images = reshape(images, size(images, 1), size(images, 2), 1, []);\n",
    "\n",
    "% 显示整个布局\n",
    "%montage(reshaped_images, 'Size', [num_rows, num_cols]);"
   ]
  },
  {
   "cell_type": "code",
   "execution_count": 3,
   "metadata": {},
   "outputs": [
    {
     "ename": "SyntaxError",
     "evalue": "invalid syntax (936035745.py, line 2)",
     "output_type": "error",
     "traceback": [
      "\u001b[1;36m  Cell \u001b[1;32mIn[3], line 2\u001b[1;36m\u001b[0m\n\u001b[1;33m    mean_image = mean(images, 4); % 计算每个像素位置的平均值，结果是一个大小为 HxWxC 的数组\u001b[0m\n\u001b[1;37m                                  ^\u001b[0m\n\u001b[1;31mSyntaxError\u001b[0m\u001b[1;31m:\u001b[0m invalid syntax\n"
     ]
    }
   ],
   "source": [
    "% 计算图像数据的平均值\n",
    "mean_image = mean(images, 4); % 计算每个像素位置的平均值，结果是一个大小为 HxWxC 的数组\n",
    "\n",
    "% 将平均图像的数据类型转换为双精度浮点数\n",
    "mean_image = double(mean_image);\n",
    "images = double(images);\n",
    "N = 400;   % 图像数量\n",
    "% 从每个图像中减去平均值，实现数据中心化\n",
    "centered_images = images - repmat(mean_image, 1, 1, 1, N); % 使用 repmat 复制平均图像以与图像数据集的大小匹配\n",
    "\n",
    "% montage(centered_images, 'Size', [num_rows, num_cols]);\n"
   ]
  },
  {
   "cell_type": "code",
   "execution_count": 4,
   "metadata": {},
   "outputs": [
    {
     "ename": "SyntaxError",
     "evalue": "invalid syntax (1675397621.py, line 13)",
     "output_type": "error",
     "traceback": [
      "\u001b[1;36m  Cell \u001b[1;32mIn[4], line 13\u001b[1;36m\u001b[0m\n\u001b[1;33m    set(fig, 'Position', [100, 100, 1200, 1200]); % 调整窗口的位置和大小\u001b[0m\n\u001b[1;37m                                                  ^\u001b[0m\n\u001b[1;31mSyntaxError\u001b[0m\u001b[1;31m:\u001b[0m invalid syntax\n"
     ]
    }
   ],
   "source": [
    "data =load('D:\\code\\大三课程\\机器学习\\实验\\实验一\\实验二\\orl.mat');\n",
    "images = data.D;\n",
    "features = data.X;\n",
    "labels = data.y;\n",
    "\n",
    "\n",
    "% 每行显示 10 张图像\n",
    "num_rows = 40;\n",
    "num_cols = size(images, 4) / num_rows;\n",
    "\n",
    "% 设置图形窗口大小\n",
    "fig = figure;\n",
    "set(fig, 'Position', [100, 100, 1200, 1200]); % 调整窗口的位置和大小\n",
    "% 重新组织图像数据，将10张图像堆叠在一起\n",
    "reshaped_images = reshape(images, size(images, 1), size(images, 2), 1, []);\n",
    "\n",
    "% 显示整个布局\n",
    "montage(reshaped_images, 'Size', [num_rows, num_cols]);\n",
    "\n",
    "\n",
    "% 1. 去除平均值\n",
    "mean_features = mean(features, 1);\n",
    "centered_features = features - mean_features;\n",
    "% montage(centered_features);\n",
    "\n",
    "% 2. 计算协方差矩阵\n",
    "cov_matrix = cov(centered_features');\n",
    "\n",
    "% 3. 计算协方差矩阵的特征值和特征向量\n",
    "[eigenvalues, eigenvectors] = eig(cov_matrix);\n",
    "\n",
    "% 4. 将特征值排序\n",
    "% 获取特征值的对角线\n",
    "eigenvalues_diag = diag(eigenvalues);\n",
    "\n",
    "% 对特征值进行降序排序，同时记录排序索引\n",
    "[sorted_eigenvalues, sorted_indices] = sort(eigenvalues_diag, 'descend');\n",
    "\n",
    "% 5. 保留前 N 个较大特征值对应的特征向量\n",
    "K = 100; % 选择合适的 K 值\n",
    "\n",
    "% 获取前 K 个较大特征值对应的特征向量\n",
    "selected_eigenvectors = eigenvectors(:, sorted_indices(1:K));\n",
    "\n",
    "% 6. 将数据转换到上述 N 维特征向量的坐标系中，实现特征压缩\n",
    "reduced_features = centered_features' * selected_eigenvectors;\n",
    "% montage(reduced_features);\n"
   ]
  },
  {
   "cell_type": "code",
   "execution_count": null,
   "metadata": {},
   "outputs": [],
   "source": []
  }
 ],
 "metadata": {
  "kernelspec": {
   "display_name": "Python 3 (ipykernel)",
   "language": "python",
   "name": "python3"
  },
  "language_info": {
   "codemirror_mode": {
    "name": "ipython",
    "version": 3
   },
   "file_extension": ".py",
   "mimetype": "text/x-python",
   "name": "python",
   "nbconvert_exporter": "python",
   "pygments_lexer": "ipython3",
   "version": "3.9.17"
  }
 },
 "nbformat": 4,
 "nbformat_minor": 2
}
