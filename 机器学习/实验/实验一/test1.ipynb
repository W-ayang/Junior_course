{
 "cells": [
  {
   "cell_type": "code",
   "execution_count": 63,
   "metadata": {},
   "outputs": [
    {
     "name": "stdout",
     "output_type": "stream",
     "text": [
      "CRIM       0\n",
      "ZN         0\n",
      "INDUS      0\n",
      "CHAS       0\n",
      "NOX        0\n",
      "RM         0\n",
      "AGE        0\n",
      "DIS        0\n",
      "RAD        0\n",
      "TAX        0\n",
      "PTRATIO    0\n",
      "B          0\n",
      "LSTAT      0\n",
      "MEDV       0\n",
      "dtype: int64\n"
     ]
    },
    {
     "name": "stderr",
     "output_type": "stream",
     "text": [
      "C:\\Users\\86183\\AppData\\Local\\Temp\\ipykernel_28124\\2720155085.py:30: RuntimeWarning: invalid value encountered in subtract\n",
      "  theta = theta - descent\n"
     ]
    },
    {
     "data": {
      "image/png": "[encoded data removed]",
      "text/plain": [
       "<Figure size 640x480 with 1 Axes>"
      ]
     },
     "metadata": {},
     "output_type": "display_data"
    }
   ],
   "source": [
    "import numpy as np\n",
    "import pandas as pd\n",
    "from sklearn import linear_model\n",
    "import matplotlib.pyplot as plt\n",
    "from matplotlib.animation import FuncAnimation\n",
    "\n",
    "boston = pd.read_csv('D:\\code\\大三课程\\机器学习\\实验\\实验一\\\\boston_house_prices.csv')\n",
    "print(boston.isnull().sum())\n",
    "X = boston.iloc[:,1:13]\n",
    "y = boston['MEDV']\n",
    "\n",
    "\n",
    "reg = linear_model.LinearRegression()\n",
    "reg.fit(X, y)\n",
    "\n",
    "def cost(theta, X, y):\n",
    "    m = len(y)\n",
    "    predictions = X.dot(theta) \n",
    "    error = (predictions - y)\n",
    "    cost = (1/2*m) * np.dot(error.transpose(), error)\n",
    "    return cost\n",
    "\n",
    "def gradient_descent(X, y, theta, alpha, iterations):\n",
    "    m = len(y)\n",
    "    cost_history = np.zeros(iterations)\n",
    "    for i in range(iterations):\n",
    "        predictions = np.dot(X,theta)\n",
    "        error = np.dot(X.transpose(),(predictions - y))\n",
    "        descent = alpha * 1/m * error  \n",
    "        theta = theta - descent  \n",
    "        cost_history[i] = cost(theta, X, y)  \n",
    "    return theta, cost_history\n",
    "\n",
    "theta = np.zeros(X.shape[1])\n",
    "alpha = 0.001\n",
    "iterations = 1000\n",
    "\n",
    "optimal_theta, cost_history = gradient_descent(X, y, theta, alpha, iterations)\n",
    "\n",
    "\n",
    "fig, ax = plt.subplots()  \n",
    "ax.set_xlabel('Iterations')\n",
    "ax.set_ylabel('Cost')\n",
    "\n",
    "def animate(i):\n",
    "    global theta, cost_history\n",
    "\n",
    "    theta, cost = gradient_descent(X, y, theta, alpha, 1)\n",
    "    \n",
    "    np.append(cost_history, cost)\n",
    "    ax.clear()\n",
    "    ax.plot(range(len(cost_history)), cost_history)\n",
    "\n",
    "for i in range(iterations):\n",
    "    # 动态绘制\n",
    "    animate(i)  \n",
    "    plt.pause(0.1)\n",
    "\n",
    "# 结束后静态绘制\n",
    "plt.plot(cost_history)\n",
    "plt.xlabel('Iterations')\n",
    "plt.ylabel('Cost')\n",
    "plt.show()"
   ]
  }
 ],
 "metadata": {
  "kernelspec": {
   "display_name": "Python 3",
   "language": "python",
   "name": "python3"
  },
  "language_info": {
   "codemirror_mode": {
    "name": "ipython",
    "version": 3
   },
   "file_extension": ".py",
   "mimetype": "text/x-python",
   "name": "python",
   "nbconvert_exporter": "python",
   "pygments_lexer": "ipython3",
   "version": "3.9.17"
  },
  "orig_nbformat": 4
 },
 "nbformat": 4,
 "nbformat_minor": 2
}
