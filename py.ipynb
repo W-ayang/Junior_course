{
 "cells": [
  {
   "cell_type": "code",
   "execution_count": 7,
   "metadata": {},
   "outputs": [
    {
     "data": {
      "text/plain": [
       "(array([1., 3., 6.]),\n",
       " array([[ 7.07106781e-01,  4.08248290e-01, -5.77350269e-01],\n",
       "        [-3.59775559e-16, -8.16496581e-01, -5.77350269e-01],\n",
       "        [-7.07106781e-01,  4.08248290e-01, -5.77350269e-01]]))"
      ]
     },
     "execution_count": 7,
     "metadata": {},
     "output_type": "execute_result"
    }
   ],
   "source": [
    "from numpy import linalg as LA\n",
    "import numpy as np\n",
    "a = np.array([[3, 1, 2], [1, 4, 1],[2, 1, 3]])\n",
    "w, v = LA.eigh(a)\n",
    "w,v"
   ]
  }
 ],
 "metadata": {
  "kernelspec": {
   "display_name": "Python 3",
   "language": "python",
   "name": "python3"
  },
  "language_info": {
   "codemirror_mode": {
    "name": "ipython",
    "version": 3
   },
   "file_extension": ".py",
   "mimetype": "text/x-python",
   "name": "python",
   "nbconvert_exporter": "python",
   "pygments_lexer": "ipython3",
   "version": "3.9.17"
  },
  "orig_nbformat": 4
 },
 "nbformat": 4,
 "nbformat_minor": 2
}
