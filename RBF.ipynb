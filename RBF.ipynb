{
 "cells": [
  {
   "cell_type": "code",
   "execution_count": 1,
   "metadata": {},
   "outputs": [
    {
     "data": {
      "text/plain": [
       "matrix([[0.00000000e+000, 0.00000000e+000],\n",
       "        [2.65039655e-261, 0.00000000e+000]])"
      ]
     },
     "execution_count": 1,
     "metadata": {},
     "output_type": "execute_result"
    }
   ],
   "source": [
    "import numpy as np\n",
    "\n",
    "def compute_RBF(mat1, mat2, sigma):\n",
    "    '''\n",
    "    mat1：数据格式为 n*d1 的矩阵；\n",
    "    mat2：数据格式为 n*d2 的矩阵；\n",
    "    sigma：高斯函数的分母标准差\n",
    "    '''\n",
    "    trnorms1 = np.mat([(v @ v.T) for v in mat1]).T\n",
    "    trnorms2 = np.mat([(v @ v.T) for v in mat2]).T\n",
    "    k1 = trnorms1 @ np.mat(np.ones((mat2.shape[0], 1), dtype=np.float64)).T\n",
    "    k2 = np.mat(np.ones((mat1.shape[0], 1), dtype=np.float64)) @ trnorms2.T\n",
    "    k = k1 + k2\n",
    "    k -= 2 * np.mat(mat1 @ mat2.T)\n",
    "    k *= - 1./(2 * np.power(sigma, 2))\n",
    "    return np.exp(k)\n",
    "\n",
    "mat1 = [[1,2,3],\n",
    "        [2,3,4]]\n",
    "mat1 = np.array(mat1)\n",
    "mat2 = [[4,5,6],\n",
    "        [5,6,7]]\n",
    "mat2 = np.array(mat2)\n",
    "\n",
    "sigma = 0.1\n",
    "compute_RBF(mat1,mat2,sigma)\n"
   ]
  }
 ],
 "metadata": {
  "kernelspec": {
   "display_name": "Python 3",
   "language": "python",
   "name": "python3"
  },
  "language_info": {
   "codemirror_mode": {
    "name": "ipython",
    "version": 3
   },
   "file_extension": ".py",
   "mimetype": "text/x-python",
   "name": "python",
   "nbconvert_exporter": "python",
   "pygments_lexer": "ipython3",
   "version": "3.9.17"
  }
 },
 "nbformat": 4,
 "nbformat_minor": 2
}
