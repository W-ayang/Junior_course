{
 "cells": [
  {
   "cell_type": "code",
   "execution_count": 7,
   "metadata": {},
   "outputs": [
    {
     "name": "stdout",
     "output_type": "stream",
     "text": [
      "2.3368318815298843\n",
      "233.68318815298844\n",
      "1.7252925496828495\n"
     ]
    }
   ],
   "source": [
    "s = 1\n",
    "for i in range(9):\n",
    "    a = 100/91\n",
    "    s *=a\n",
    "print(s)\n",
    "s *= 100\n",
    "print(s)\n",
    "s = s**(1/10)\n",
    "print(s)"
   ]
  },
  {
   "cell_type": "code",
   "execution_count": 14,
   "metadata": {},
   "outputs": [
    {
     "name": "stdout",
     "output_type": "stream",
     "text": [
      "原始矩阵 A:\n",
      "     3     1     2\n",
      "     1     4     1\n",
      "     2     1     3\n",
      "\n",
      "特征值（从小到大排序）：\n",
      "    1.0000\n",
      "    3.0000\n",
      "    6.0000\n",
      "\n",
      "特征向量（对应排序后的特征值）:\n",
      "    0.7071    0.4082    0.5774\n",
      "    0.0000   -0.8165    0.5774\n",
      "   -0.7071    0.4082    0.5774\n",
      "\n",
      "特征值（从大到小排序）:\n",
      "    6.0000\n",
      "    3.0000\n",
      "    1.0000\n",
      "\n",
      "特征向量（对应排序后的特征值）:\n",
      "    0.5774    0.4082    0.7071\n",
      "    0.5774   -0.8165    0.0000\n",
      "    0.5774    0.4082   -0.7071\n",
      "\n",
      "\n"
     ]
    }
   ],
   "source": [
    "% 定义一个方阵 A\n",
    "A = [3, 1, 2; 1, 4, 1; 2, 1, 3];\n",
    "\n",
    "% 使用 eig 函数进行特征值分解\n",
    "[V, D] = eig(A);\n",
    "\n",
    "% 提取特征值和特征向量\n",
    "eigenvalues = diag(D);\n",
    "eigenvectors = V;\n",
    "\n",
    "% 按特征值从大到小排序\n",
    "[eigenvalues_sorted, index] = sort(eigenvalues,\"descend\");\n",
    "eigenvectors_sorted = eigenvectors(:, index);\n",
    "\n",
    "% 输出结果\n",
    "disp('原始矩阵 A:');\n",
    "disp(A);\n",
    "disp(\"特征值（从小到大排序）：\")\n",
    "disp(eigenvalues)\n",
    "disp('特征向量（对应排序后的特征值）:');\n",
    "disp(eigenvectors);\n",
    "disp('特征值（从大到小排序）:');\n",
    "disp(eigenvalues_sorted);\n",
    "disp('特征向量（对应排序后的特征值）:');\n",
    "disp(eigenvectors_sorted);\n"
   ]
  }
 ],
 "metadata": {
  "kernelspec": {
   "display_name": "Matlab (Connection)",
   "language": "matlab",
   "name": "matlab_connect"
  },
  "language_info": {
   "codemirror_mode": "octave",
   "file_extension": ".m",
   "help_links": [
    {
     "text": "MetaKernel Magics",
     "url": "https://metakernel.readthedocs.io/en/latest/source/README.html"
    }
   ],
   "mimetype": "text/x-octave",
   "name": "matlab",
   "version": "0.17.1"
  },
  "orig_nbformat": 4
 },
 "nbformat": 4,
 "nbformat_minor": 2
}
