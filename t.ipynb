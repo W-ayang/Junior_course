{
 "cells": [
  {
   "cell_type": "code",
   "execution_count": 7,
   "metadata": {},
   "outputs": [
    {
     "name": "stdout",
     "output_type": "stream",
     "text": [
      "2.3368318815298843\n",
      "233.68318815298844\n",
      "1.7252925496828495\n"
     ]
    }
   ],
   "source": [
    "s = 1\n",
    "for i in range(9):\n",
    "    a = 100/91\n",
    "    s *=a\n",
    "print(s)\n",
    "s *= 100\n",
    "print(s)\n",
    "s = s**(1/10)\n",
    "print(s)"
   ]
  }
 ],
 "metadata": {
  "kernelspec": {
   "display_name": "Python 3",
   "language": "python",
   "name": "python3"
  },
  "language_info": {
   "codemirror_mode": {
    "name": "ipython",
    "version": 3
   },
   "file_extension": ".py",
   "mimetype": "text/x-python",
   "name": "python",
   "nbconvert_exporter": "python",
   "pygments_lexer": "ipython3",
   "version": "3.9.17"
  },
  "orig_nbformat": 4
 },
 "nbformat": 4,
 "nbformat_minor": 2
}
